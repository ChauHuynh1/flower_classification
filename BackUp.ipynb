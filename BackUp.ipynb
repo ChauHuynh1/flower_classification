{
 "cells": [
  {
   "cell_type": "markdown",
   "id": "bec92158",
   "metadata": {},
   "source": [
    "## Load data"
   ]
  },
  {
   "cell_type": "code",
   "execution_count": 1,
   "id": "2a7b3681",
   "metadata": {},
   "outputs": [],
   "source": [
    "import os\n",
    "import pandas as pd\n",
    "\n",
    "from PIL import Image\n",
    "import numpy as np\n",
    "from sklearn.utils import shuffle, resample\n",
    "from sklearn.model_selection import train_test_split\n",
    "import matplotlib.pyplot as plt\n",
    "import warnings\n",
    "warnings.filterwarnings('ignore')\n",
    "pd.set_option(\"display.max_columns\", None)"
   ]
  },
  {
   "cell_type": "markdown",
   "id": "b8448a10",
   "metadata": {},
   "source": [
    "## Remove background"
   ]
  },
  {
   "cell_type": "code",
   "execution_count": 2,
   "id": "0c93331c",
   "metadata": {},
   "outputs": [],
   "source": [
    "# import cv2\n",
    "\n",
    "# def remove_background(image_path):\n",
    "#     # Load the image using OpenCV\n",
    "#     image = cv2.imread(image_path)\n",
    "\n",
    "#     # Create a mask with all zeros\n",
    "#     mask = np.zeros(image.shape[:2], np.uint8)\n",
    "\n",
    "#     # Define the background and foreground model using the GrabCut algorithm\n",
    "#     bgdModel = np.zeros((1,65), np.float64)\n",
    "#     fgdModel = np.zeros((1,65), np.float64)\n",
    "\n",
    "#     # Define the rectangle that contains the object of interest\n",
    "#     height, width = image.shape[:2]\n",
    "#     rect = (10, 10, width-10, height-10)\n",
    "\n",
    "#     # Apply the GrabCut algorithm to the image and mask\n",
    "#     cv2.grabCut(image, mask, rect, bgdModel, fgdModel, 5, cv2.GC_INIT_WITH_RECT)\n",
    "\n",
    "#     # Create a mask where the background is 0 and the object of interest is 1\n",
    "#     mask = np.where((mask==2)|(mask==0), 0, 1).astype('uint8')\n",
    "\n",
    "#     # Apply the mask to the original image to remove the background\n",
    "#     image = image*mask[:,:,np.newaxis]\n",
    "\n",
    "#     # Save the image without the background\n",
    "#     new_image_path = os.path.splitext(image_path)[0] + '_nobg.jpg'\n",
    "#     cv2.imwrite(new_image_path, image)\n",
    "\n",
    "#     return new_image_path\n"
   ]
  },
  {
   "cell_type": "code",
   "execution_count": 3,
   "id": "06024215",
   "metadata": {},
   "outputs": [],
   "source": [
    "# import os\n",
    "\n",
    "# # Define the directory containing the images\n",
    "# data_dir = \"Flowers/\"\n",
    "\n",
    "# # Create a dictionary to map class names to integer labels\n",
    "# class_to_idx = {}\n",
    "# for i, class_name in enumerate(os.listdir(data_dir)):\n",
    "#     if os.path.isdir(os.path.join(data_dir, class_name)):\n",
    "#         class_to_idx[class_name] = i\n",
    "\n",
    "# # Loop over each class directory and load the image data\n",
    "# for class_name in class_to_idx.keys():\n",
    "#     class_dir = os.path.join(data_dir, class_name)\n",
    "#     for filename in os.listdir(class_dir):\n",
    "#         image_path = os.path.join(class_dir, filename)\n",
    "#         try:\n",
    "#             # Remove the background from the image\n",
    "#             new_image_path = remove_background(image_path)\n",
    "#             # Load the new image using the PIL library and convert to numpy array\n",
    "#             image = Image.open(new_image_path)\n",
    "#             image = np.asarray(image)\n",
    "#             # Append the image data and label to the lists\n",
    "#             images.append(image)\n",
    "#             labels.append(class_to_idx[class_name])\n",
    "#         except:\n",
    "#             print(f\"Done loading image: {image_path}\")\n"
   ]
  },
  {
   "cell_type": "code",
   "execution_count": 4,
   "id": "d866a0d9",
   "metadata": {},
   "outputs": [],
   "source": [
    "# # Loop through all 8 subdirectories and remove the '_nobg.jpg' files\n",
    "# for class_name in class_to_idx.keys():\n",
    "#     class_dir = os.path.join(data_dir, class_name)\n",
    "#     for filename in os.listdir(class_dir):\n",
    "#         if not '_nobg.jpg' in filename:\n",
    "#             os.remove(os.path.join(class_dir, filename))\n",
    "\n",
    "# print(\"Removed all '_nobg.jpg' files.\")"
   ]
  },
  {
   "cell_type": "code",
   "execution_count": 5,
   "id": "d5d6d314",
   "metadata": {},
   "outputs": [],
   "source": [
    "data_dir = \"Flowers/\"\n",
    "classes = os.listdir(data_dir)\n",
    "num_classes = len(classes)\n",
    "images = []\n",
    "labels = []\n",
    "new_image_size = (256, 256) # set the size of the new images\n",
    "\n",
    "# Loop through each class folder\n",
    "for i, class_name in enumerate(classes):\n",
    "    class_dir = os.path.join(data_dir, class_name)\n",
    "    for img_name in os.listdir(class_dir):\n",
    "        # Load each image and resize it to the same size\n",
    "        img_path = os.path.join(class_dir, img_name)\n",
    "        img = Image.open(img_path).convert('L')\n",
    "        img = img.resize(new_image_size)\n",
    "        images.append(np.asarray(img).reshape(-1))\n",
    "        labels.append(i)\n",
    "\n",
    "# Convert image and label lists to NumPy arrays\n",
    "images = np.array(images)\n",
    "labels = np.array(labels)\n",
    "\n",
    "# Shuffle the data\n",
    "images, labels = shuffle(images, labels, random_state=42)"
   ]
  },
  {
   "cell_type": "markdown",
   "id": "85a6acb8",
   "metadata": {},
   "source": [
    "## Visualise the data"
   ]
  },
  {
   "cell_type": "code",
   "execution_count": 6,
   "id": "6c7eef57",
   "metadata": {},
   "outputs": [
    {
     "data": {
      "image/png": "[encoded data removed]",
      "text/plain": [
       "<Figure size 640x480 with 1 Axes>"
      ]
     },
     "metadata": {},
     "output_type": "display_data"
    }
   ],
   "source": [
    "# Count the number of images in each class\n",
    "class_counts = np.zeros(num_classes)\n",
    "for label in labels:\n",
    "    class_counts[label] += 1\n",
    "\n",
    "# Visualize the class distribution\n",
    "plt.bar(range(num_classes), class_counts)\n",
    "plt.xticks(range(num_classes), classes, rotation=90)\n",
    "plt.xlabel('Class')\n",
    "plt.ylabel('Number of images')\n",
    "plt.show()"
   ]
  },
  {
   "cell_type": "markdown",
   "id": "64340eb0",
   "metadata": {},
   "source": [
    "## Balance the data"
   ]
  },
  {
   "cell_type": "code",
   "execution_count": 7,
   "id": "71ebef80",
   "metadata": {},
   "outputs": [],
   "source": [
    "# Upsample the minority classes to balance the class distribution\n",
    "class_counts = np.bincount(labels)\n",
    "max_class_size = class_counts.max()\n",
    "for class_idx in range(num_classes):\n",
    "    if class_counts[class_idx] < max_class_size:\n",
    "        class_images = images[labels == class_idx]\n",
    "        class_labels = labels[labels == class_idx]\n",
    "        num_to_add = max_class_size - class_counts[class_idx]\n",
    "        new_images, new_labels = resample(class_images, class_labels, n_samples=num_to_add, replace=True, random_state=42)\n",
    "        images = np.concatenate([images, new_images], axis=0)\n",
    "        labels = np.concatenate([labels, new_labels], axis=0)\n",
    "\n",
    "# Shuffle the data again\n",
    "images, labels = shuffle(images, labels, random_state=42)\n"
   ]
  },
  {
   "cell_type": "markdown",
   "id": "a3231b6a",
   "metadata": {},
   "source": [
    "## Image pixel distribution"
   ]
  },
  {
   "cell_type": "code",
   "execution_count": 8,
   "id": "6b231c33",
   "metadata": {},
   "outputs": [
    {
     "data": {
      "image/png": "[encoded data removed]",
      "text/plain": [
       "<Figure size 640x480 with 1 Axes>"
      ]
     },
     "metadata": {},
     "output_type": "display_data"
    }
   ],
   "source": [
    "import matplotlib.pyplot as plt\n",
    "\n",
    "# plot histogram of pixel values\n",
    "plt.hist(images.ravel(), bins=256, range=(0, 255))\n",
    "plt.title('Pixel Value Distribution')\n",
    "plt.xlabel('Pixel Value')\n",
    "plt.ylabel('Frequency')\n",
    "plt.show()"
   ]
  },
  {
   "cell_type": "markdown",
   "id": "998ffe37",
   "metadata": {},
   "source": [
    "## Scaling data"
   ]
  },
  {
   "cell_type": "code",
   "execution_count": 9,
   "id": "59001173",
   "metadata": {},
   "outputs": [],
   "source": [
    "from sklearn.preprocessing import StandardScaler\n",
    "\n",
    "# Scale the data\n",
    "scaler = StandardScaler()\n",
    "images = scaler.fit_transform(images)\n",
    "\n",
    "# Reshape the images back to their original dimensions\n",
    "images = images.reshape(-1, new_image_size[0], new_image_size[1])"
   ]
  },
  {
   "cell_type": "markdown",
   "id": "0ef2a306",
   "metadata": {},
   "source": [
    "## Split data"
   ]
  },
  {
   "cell_type": "code",
   "execution_count": 10,
   "id": "dc5e7d92",
   "metadata": {},
   "outputs": [],
   "source": [
    "# Split into training and validation sets\n",
    "X_train, X_val, y_train, y_val = train_test_split(images, labels, test_size=0.2, random_state=42)"
   ]
  },
  {
   "cell_type": "code",
   "execution_count": 11,
   "id": "0037301c",
   "metadata": {},
   "outputs": [
    {
     "data": {
      "text/plain": [
       "array([[[ 0.9295723 ,  0.86407642,  0.86395388, ...,  1.00202946,\n",
       "          1.01561912,  1.00998954],\n",
       "        [ 0.87695114,  0.8211738 ,  0.82073544, ...,  0.99076082,\n",
       "          1.00180677,  0.99861736],\n",
       "        [ 0.83340918,  0.78933294,  0.80236056, ...,  0.98220611,\n",
       "          0.99015796,  0.98758075],\n",
       "        ...,\n",
       "        [ 0.88556481,  0.82953151,  0.78056669, ...,  0.77496619,\n",
       "          0.74873681,  0.74585452],\n",
       "        [ 0.85980409,  0.81750117,  0.78066081, ...,  0.76070948,\n",
       "          0.73641107,  0.73428778],\n",
       "        [ 0.82362945,  0.8060823 ,  0.80500064, ...,  0.74987026,\n",
       "          0.73923612,  0.7356386 ]],\n",
       "\n",
       "       [[ 0.39053231,  0.1772987 , -0.0580708 , ...,  0.72162976,\n",
       "          0.71243496,  0.69623907],\n",
       "        [ 0.77558123,  0.53912858,  0.20083318, ...,  0.72098664,\n",
       "          0.72062915,  0.70680365],\n",
       "        [ 0.57379726,  0.71036229,  0.74599341, ...,  0.72342468,\n",
       "          0.72019832,  0.70677987],\n",
       "        ...,\n",
       "        [ 1.18572993,  1.2458268 ,  1.30077883, ...,  0.7368831 ,\n",
       "          0.73605527,  0.74585452],\n",
       "        [ 1.27597272,  1.29268873,  1.2665345 , ...,  0.73531897,\n",
       "          0.73641107,  0.74697111],\n",
       "        [ 1.36603832,  1.36202535,  1.36125011, ...,  0.73715436,\n",
       "          0.73923612,  0.7356386 ]],\n",
       "\n",
       "       [[-0.78861768, -0.77968666, -0.75521142, ..., -0.64672076,\n",
       "         -0.64627922, -0.64840578],\n",
       "        [-0.79002078, -0.78084306, -0.75719757, ..., -0.65036545,\n",
       "         -0.65151766, -0.65125243],\n",
       "        [-0.79198723, -0.77879849, -0.75337259, ..., -0.64924204,\n",
       "         -0.65209654, -0.65229637],\n",
       "        ...,\n",
       "        [-0.46517819, -0.32684428, -0.23673705, ..., -1.02763306,\n",
       "         -1.02667926, -1.02914293],\n",
       "        [-0.46962348, -0.34149289, -0.24892867, ..., -1.01662626,\n",
       "         -1.01524572, -1.01601196],\n",
       "        [-0.48045995, -0.35213239, -0.28432125, ..., -0.97949242,\n",
       "         -0.97597105, -0.97431039]],\n",
       "\n",
       "       ...,\n",
       "\n",
       "       [[-0.00251769, -0.01409838, -0.02433819, ...,  0.63190186,\n",
       "          0.62260262,  0.61780145],\n",
       "        [-0.04664141, -0.05880729, -0.06966962, ...,  0.63106191,\n",
       "          0.6194052 ,  0.61701482],\n",
       "        [-0.09216377, -0.10190723, -0.11078716, ...,  0.63341374,\n",
       "          0.61896345,  0.61692359],\n",
       "        ...,\n",
       "        [ 0.60848933,  0.60982011,  0.60716264, ...,  0.86382671,\n",
       "          0.8628707 ,  0.8599615 ],\n",
       "        [ 0.60547881,  0.60888224,  0.6071345 , ...,  0.86227152,\n",
       "          0.86334272,  0.86112109],\n",
       "        [ 0.60435778,  0.6091858 ,  0.60799562, ...,  0.86431338,\n",
       "          0.8662885 ,  0.86230149]],\n",
       "\n",
       "       [[ 0.5702123 ,  0.57135149,  0.57160459, ...,  0.07110247,\n",
       "          0.06115048,  0.05753277],\n",
       "        [ 0.5728414 ,  0.572974  ,  0.57277454, ...,  0.06903237,\n",
       "          0.05704995,  0.05583462],\n",
       "        [ 0.57379726,  0.57498404,  0.57689199, ...,  0.07084542,\n",
       "          0.05654753,  0.05532184],\n",
       "        ...,\n",
       "        [ 0.74702707,  0.74858521,  0.74588588, ...,  0.59724513,\n",
       "          0.60923983,  0.60639044],\n",
       "        [ 0.74420169,  0.74796153,  0.74595555, ...,  0.59567116,\n",
       "          0.60947942,  0.60745447],\n",
       "        [ 0.74284515,  0.74817156,  0.74705799, ...,  0.59727944,\n",
       "          0.61218374,  0.60897571]],\n",
       "\n",
       "       [[-1.30519767, -1.2075154 , -1.16000275, ..., -1.12900824,\n",
       "         -1.11789901, -1.11903148],\n",
       "        [-1.0828672 , -1.26596084, -1.29820318, ..., -1.12247027,\n",
       "         -1.11264896, -1.1114202 ],\n",
       "        [-1.09674905, -1.1059626 , -1.15921601, ..., -1.09929671,\n",
       "         -1.09078096, -1.09034574],\n",
       "        ...,\n",
       "        [ 0.59694452,  0.59825636,  0.59560237, ..., -0.21519397,\n",
       "         -0.24042357, -0.29378684],\n",
       "        [ 0.58235834,  0.58570236,  0.58399765, ..., -0.22952043,\n",
       "         -0.25365581, -0.29306206],\n",
       "        [ 0.58127656,  0.58602151,  0.58481856, ..., -0.2292542 ,\n",
       "         -0.25177247, -0.30299708]]])"
      ]
     },
     "execution_count": 11,
     "metadata": {},
     "output_type": "execute_result"
    }
   ],
   "source": [
    "X_train"
   ]
  },
  {
   "cell_type": "markdown",
   "id": "0ae458ed",
   "metadata": {},
   "source": [
    "## Create CNN model"
   ]
  },
  {
   "cell_type": "code",
   "execution_count": 12,
   "id": "691e1fcd",
   "metadata": {},
   "outputs": [
    {
     "name": "stdout",
     "output_type": "stream",
     "text": [
      "Metal device set to: Apple M1 Pro\n",
      "Epoch 1/10\n"
     ]
    },
    {
     "name": "stderr",
     "output_type": "stream",
     "text": [
      "2023-05-18 15:56:36.311292: W tensorflow/tsl/platform/profile_utils/cpu_utils.cc:128] Failed to get CPU frequency: 0 Hz\n"
     ]
    },
    {
     "name": "stdout",
     "output_type": "stream",
     "text": [
      "360/360 [==============================] - 54s 148ms/step - loss: 0.8989 - accuracy: 0.6966 - val_loss: 1.9446 - val_accuracy: 0.2639\n",
      "Epoch 2/10\n",
      "360/360 [==============================] - 49s 135ms/step - loss: 0.1135 - accuracy: 0.9752 - val_loss: 0.2656 - val_accuracy: 0.9193\n",
      "Epoch 3/10\n",
      "360/360 [==============================] - 49s 135ms/step - loss: 0.0559 - accuracy: 0.9855 - val_loss: 0.1901 - val_accuracy: 0.9482\n",
      "Epoch 4/10\n",
      "360/360 [==============================] - 48s 134ms/step - loss: 0.0461 - accuracy: 0.9854 - val_loss: 0.2083 - val_accuracy: 0.9461\n",
      "Epoch 5/10\n",
      "360/360 [==============================] - 48s 132ms/step - loss: 0.0473 - accuracy: 0.9863 - val_loss: 0.2567 - val_accuracy: 0.9294\n",
      "Epoch 6/10\n",
      "360/360 [==============================] - 48s 132ms/step - loss: 0.0391 - accuracy: 0.9868 - val_loss: 0.1866 - val_accuracy: 0.9437\n",
      "Epoch 7/10\n",
      "360/360 [==============================] - 48s 133ms/step - loss: 0.0392 - accuracy: 0.9870 - val_loss: 0.1882 - val_accuracy: 0.9538\n",
      "Epoch 8/10\n",
      "360/360 [==============================] - 48s 133ms/step - loss: 0.0358 - accuracy: 0.9884 - val_loss: 0.1996 - val_accuracy: 0.9440\n",
      "Epoch 9/10\n",
      "360/360 [==============================] - 48s 133ms/step - loss: 0.0377 - accuracy: 0.9874 - val_loss: 0.2420 - val_accuracy: 0.9395\n",
      "Epoch 10/10\n",
      "360/360 [==============================] - 48s 133ms/step - loss: 0.0369 - accuracy: 0.9871 - val_loss: 0.2217 - val_accuracy: 0.9405\n"
     ]
    }
   ],
   "source": [
    "from tensorflow import keras\n",
    "from tensorflow.keras import layers\n",
    "from tensorflow.keras.layers import BatchNormalization\n",
    "\n",
    "# Define the input shape of the images\n",
    "input_shape = (256, 256, 1)\n",
    "\n",
    "# Define the number of classes\n",
    "num_classes = len(classes)\n",
    "\n",
    "# Define the CNN model\n",
    "model = keras.Sequential(\n",
    "    [\n",
    "        layers.Conv2D(32, kernel_size=(3, 3), activation=\"relu\", input_shape=input_shape),\n",
    "        BatchNormalization(),\n",
    "        layers.Activation(\"relu\"),\n",
    "        layers.MaxPooling2D(pool_size=(2, 2)),\n",
    "        layers.Conv2D(64, kernel_size=(3, 3), activation=\"relu\", ),\n",
    "        BatchNormalization(),\n",
    "        layers.Activation(\"relu\"),\n",
    "        layers.MaxPooling2D(pool_size=(2, 2)),\n",
    "        layers.Flatten(),\n",
    "        layers.Dense(128),\n",
    "        BatchNormalization(),\n",
    "        layers.Activation(\"relu\"),\n",
    "        layers.Dense(num_classes, activation=\"softmax\"),\n",
    "    ]\n",
    ")\n",
    "\n",
    "# Compile the model\n",
    "model.compile(\n",
    "    optimizer=\"adam\",\n",
    "    loss=\"sparse_categorical_crossentropy\",\n",
    "    metrics=[\"accuracy\"]\n",
    ")\n",
    "\n",
    "# Train the model\n",
    "history = model.fit(\n",
    "    X_train,\n",
    "    y_train,\n",
    "    batch_size=32,\n",
    "    epochs=10,\n",
    "    validation_data=(X_val, y_val),\n",
    ")"
   ]
  },
  {
   "cell_type": "markdown",
   "id": "12b605bc",
   "metadata": {},
   "source": [
    "## Classification report"
   ]
  },
  {
   "cell_type": "markdown",
   "id": "44d13eef",
   "metadata": {},
   "source": [
    "### ***Test set***"
   ]
  },
  {
   "cell_type": "code",
   "execution_count": 13,
   "id": "4ad27a70",
   "metadata": {},
   "outputs": [
    {
     "name": "stdout",
     "output_type": "stream",
     "text": [
      "90/90 [==============================] - 4s 42ms/step\n",
      "               precision    recall  f1-score   support\n",
      "\n",
      "         Babi       0.95      0.84      0.89       363\n",
      "     Pingpong       0.96      0.98      0.97       334\n",
      "Chrysanthemum       0.88      0.92      0.90       357\n",
      "         Rosy       0.99      1.00      0.99       346\n",
      "         Tana       0.96      0.91      0.93       361\n",
      "   Hydrangeas       0.96      0.94      0.95       372\n",
      "   Lisianthus       0.88      0.94      0.91       364\n",
      "    Calimerio       0.96      0.99      0.97       379\n",
      "\n",
      "     accuracy                           0.94      2876\n",
      "    macro avg       0.94      0.94      0.94      2876\n",
      " weighted avg       0.94      0.94      0.94      2876\n",
      "\n"
     ]
    }
   ],
   "source": [
    "from sklearn.metrics import classification_report\n",
    "\n",
    "# Make predictions on the test set\n",
    "y_pred = model.predict(X_val)\n",
    "y_pred_classes = np.argmax(y_pred, axis=1)\n",
    "\n",
    "# Print classification report\n",
    "print(classification_report(y_val, y_pred_classes, target_names=classes))"
   ]
  },
  {
   "cell_type": "markdown",
   "id": "4d76f3be",
   "metadata": {},
   "source": [
    "### ***Train set***"
   ]
  },
  {
   "cell_type": "code",
   "execution_count": 14,
   "id": "883bbee0",
   "metadata": {},
   "outputs": [
    {
     "name": "stdout",
     "output_type": "stream",
     "text": [
      "360/360 [==============================] - 15s 42ms/step\n",
      "               precision    recall  f1-score   support\n",
      "\n",
      "         Babi       1.00      1.00      1.00      1434\n",
      "     Pingpong       1.00      1.00      1.00      1463\n",
      "Chrysanthemum       0.95      0.98      0.97      1440\n",
      "         Rosy       1.00      1.00      1.00      1451\n",
      "         Tana       0.98      0.95      0.96      1436\n",
      "   Hydrangeas       1.00      0.99      0.99      1425\n",
      "   Lisianthus       0.99      0.99      0.99      1433\n",
      "    Calimerio       0.99      1.00      0.99      1418\n",
      "\n",
      "     accuracy                           0.99     11500\n",
      "    macro avg       0.99      0.99      0.99     11500\n",
      " weighted avg       0.99      0.99      0.99     11500\n",
      "\n"
     ]
    }
   ],
   "source": [
    "from sklearn.metrics import classification_report\n",
    "\n",
    "# Make predictions on the test set\n",
    "y_pred = model.predict(X_train)\n",
    "y_pred_classes = np.argmax(y_pred, axis=1)\n",
    "\n",
    "# Print classification report\n",
    "print(classification_report(y_train, y_pred_classes, target_names=classes))\n"
   ]
  },
  {
   "cell_type": "markdown",
   "id": "78dab79d",
   "metadata": {},
   "source": [
    "## Visualise the result"
   ]
  },
  {
   "cell_type": "code",
   "execution_count": 15,
   "id": "ac24ac96",
   "metadata": {},
   "outputs": [
    {
     "data": {
      "image/png": "[encoded data removed]",
      "text/plain": [
       "<Figure size 800x800 with 2 Axes>"
      ]
     },
     "metadata": {},
     "output_type": "display_data"
    }
   ],
   "source": [
    "acc = history.history['accuracy']\n",
    "val_acc = history.history['val_accuracy']\n",
    "\n",
    "loss = history.history['loss']\n",
    "val_loss = history.history['val_loss']\n",
    "\n",
    "epochs_range = range(10)\n",
    "\n",
    "plt.figure(figsize=(8, 8))\n",
    "plt.subplot(1, 2, 1)\n",
    "plt.plot(epochs_range, acc, label='Training Accuracy')\n",
    "plt.plot(epochs_range, val_acc, label='Validation Accuracy')\n",
    "plt.legend(loc='lower right')\n",
    "plt.title('Training and Validation Accuracy')\n",
    "\n",
    "plt.subplot(1, 2, 2)\n",
    "plt.plot(epochs_range, loss, label='Training Loss')\n",
    "plt.plot(epochs_range, val_loss, label='Validation Loss')\n",
    "plt.legend(loc='upper right')\n",
    "plt.title('Training and Validation Loss')\n",
    "plt.show()"
   ]
  },
  {
   "cell_type": "markdown",
   "id": "cf3bcc06",
   "metadata": {},
   "source": [
    "## Early Stopping"
   ]
  },
  {
   "cell_type": "code",
   "execution_count": 16,
   "id": "8ebb9913",
   "metadata": {},
   "outputs": [
    {
     "name": "stdout",
     "output_type": "stream",
     "text": [
      "Epoch 1/1000\n",
      "360/360 [==============================] - 53s 144ms/step - loss: 0.8752 - accuracy: 0.7077 - val_loss: 2.2339 - val_accuracy: 0.2357\n",
      "Epoch 2/1000\n",
      "360/360 [==============================] - 49s 135ms/step - loss: 0.1181 - accuracy: 0.9740 - val_loss: 0.2320 - val_accuracy: 0.9339\n",
      "Epoch 3/1000\n",
      "360/360 [==============================] - 48s 134ms/step - loss: 0.0533 - accuracy: 0.9851 - val_loss: 0.1863 - val_accuracy: 0.9419\n",
      "Epoch 4/1000\n",
      "360/360 [==============================] - 49s 137ms/step - loss: 0.0444 - accuracy: 0.9857 - val_loss: 0.2168 - val_accuracy: 0.9378\n",
      "Epoch 5/1000\n",
      "360/360 [==============================] - 51s 141ms/step - loss: 0.0418 - accuracy: 0.9856 - val_loss: 0.1868 - val_accuracy: 0.9447\n",
      "Epoch 6/1000\n",
      "360/360 [==============================] - 50s 139ms/step - loss: 0.0364 - accuracy: 0.9868 - val_loss: 0.2180 - val_accuracy: 0.9392\n",
      "Epoch 7/1000\n",
      "360/360 [==============================] - 51s 141ms/step - loss: 0.0370 - accuracy: 0.9868 - val_loss: 0.1947 - val_accuracy: 0.9419\n",
      "Epoch 8/1000\n",
      "360/360 [==============================] - 50s 139ms/step - loss: 0.0359 - accuracy: 0.9877 - val_loss: 0.2619 - val_accuracy: 0.9239\n",
      "Epoch 9/1000\n",
      "360/360 [==============================] - 47s 130ms/step - loss: 0.0447 - accuracy: 0.9858 - val_loss: 0.2580 - val_accuracy: 0.9211\n",
      "Epoch 10/1000\n",
      "360/360 [==============================] - 47s 130ms/step - loss: 0.0422 - accuracy: 0.9871 - val_loss: 0.2346 - val_accuracy: 0.9346\n",
      "Epoch 11/1000\n",
      "360/360 [==============================] - 49s 135ms/step - loss: 0.0371 - accuracy: 0.9873 - val_loss: 0.1810 - val_accuracy: 0.9499\n",
      "Epoch 12/1000\n",
      "360/360 [==============================] - 51s 140ms/step - loss: 0.0359 - accuracy: 0.9884 - val_loss: 0.1904 - val_accuracy: 0.9437\n",
      "Epoch 13/1000\n",
      "360/360 [==============================] - 52s 145ms/step - loss: 0.0324 - accuracy: 0.9885 - val_loss: 0.2454 - val_accuracy: 0.9392\n",
      "Epoch 14/1000\n",
      "360/360 [==============================] - 50s 139ms/step - loss: 0.0329 - accuracy: 0.9873 - val_loss: 0.2567 - val_accuracy: 0.9360\n",
      "Epoch 15/1000\n",
      "360/360 [==============================] - 50s 138ms/step - loss: 0.0312 - accuracy: 0.9882 - val_loss: 0.1860 - val_accuracy: 0.9506\n",
      "Epoch 16/1000\n",
      "360/360 [==============================] - 49s 137ms/step - loss: 0.0324 - accuracy: 0.9872 - val_loss: 0.2126 - val_accuracy: 0.9465\n",
      "Epoch 17/1000\n",
      "360/360 [==============================] - 50s 139ms/step - loss: 0.0364 - accuracy: 0.9883 - val_loss: 0.2274 - val_accuracy: 0.9367\n",
      "Epoch 18/1000\n",
      "360/360 [==============================] - 52s 145ms/step - loss: 0.0288 - accuracy: 0.9900 - val_loss: 0.1878 - val_accuracy: 0.9489\n",
      "Epoch 19/1000\n",
      "360/360 [==============================] - 50s 139ms/step - loss: 0.0296 - accuracy: 0.9883 - val_loss: 0.3209 - val_accuracy: 0.9284\n",
      "Epoch 20/1000\n",
      "360/360 [==============================] - 48s 133ms/step - loss: 0.0488 - accuracy: 0.9857 - val_loss: 0.2398 - val_accuracy: 0.9430\n",
      "Epoch 21/1000\n",
      "360/360 [==============================] - 47s 131ms/step - loss: 0.0407 - accuracy: 0.9877 - val_loss: 0.2255 - val_accuracy: 0.9451\n"
     ]
    }
   ],
   "source": [
    "from tensorflow import keras\n",
    "from tensorflow.keras import layers\n",
    "from tensorflow.keras.layers import BatchNormalization\n",
    "from tensorflow.keras.callbacks import EarlyStopping\n",
    "\n",
    "# Define the input shape of the images\n",
    "input_shape = (256, 256, 1)\n",
    "\n",
    "# Define the number of classes\n",
    "num_classes = len(classes)\n",
    "\n",
    "# Define the CNN model\n",
    "model = keras.Sequential(\n",
    "    [\n",
    "        layers.Conv2D(32, kernel_size=(3, 3), activation=\"relu\", input_shape=input_shape),\n",
    "        BatchNormalization(),\n",
    "        layers.Activation(\"relu\"),\n",
    "        layers.MaxPooling2D(pool_size=(2, 2)),\n",
    "        layers.Conv2D(64, kernel_size=(3, 3), activation=\"relu\"),\n",
    "        BatchNormalization(),\n",
    "        layers.Activation(\"relu\"),\n",
    "        layers.MaxPooling2D(pool_size=(2, 2)),\n",
    "        layers.Flatten(),\n",
    "        layers.Dense(128),\n",
    "        BatchNormalization(),\n",
    "        layers.Activation(\"relu\"),\n",
    "        layers.Dense(num_classes, activation=\"softmax\"),\n",
    "    ]\n",
    ")\n",
    "\n",
    "# Compile the model\n",
    "model.compile(\n",
    "    optimizer=\"adam\",\n",
    "    loss=\"sparse_categorical_crossentropy\",\n",
    "    metrics=[\"accuracy\"]\n",
    ")\n",
    "\n",
    "# Define early stopping callback\n",
    "early_stopping = EarlyStopping(\n",
    "    monitor='val_loss',  # Stop training when validation loss doesn't improve\n",
    "    patience=10,  # Wait for 10 epochs before stopping\n",
    "    restore_best_weights=True  # Restore the weights from the best epoch\n",
    ")\n",
    "\n",
    "# Train the model\n",
    "history = model.fit(\n",
    "    X_train,\n",
    "    y_train,\n",
    "    batch_size=32,\n",
    "    epochs=1000,\n",
    "    validation_data=(X_val, y_val),\n",
    "    callbacks=[early_stopping]  # Use the early stopping callback\n",
    ")\n"
   ]
  },
  {
   "cell_type": "markdown",
   "id": "294345ca",
   "metadata": {},
   "source": [
    "## Classification report"
   ]
  },
  {
   "cell_type": "markdown",
   "id": "b4744529",
   "metadata": {},
   "source": [
    "### ***Test set***"
   ]
  },
  {
   "cell_type": "code",
   "execution_count": 17,
   "id": "5e6c377d",
   "metadata": {},
   "outputs": [
    {
     "name": "stdout",
     "output_type": "stream",
     "text": [
      "90/90 [==============================] - 4s 40ms/step\n",
      "               precision    recall  f1-score   support\n",
      "\n",
      "         Babi       0.93      0.91      0.92       363\n",
      "     Pingpong       0.98      0.98      0.98       334\n",
      "Chrysanthemum       0.96      0.89      0.92       357\n",
      "         Rosy       1.00      1.00      1.00       346\n",
      "         Tana       0.89      0.94      0.92       361\n",
      "   Hydrangeas       0.94      0.96      0.95       372\n",
      "   Lisianthus       0.90      0.94      0.92       364\n",
      "    Calimerio       0.99      0.99      0.99       379\n",
      "\n",
      "     accuracy                           0.95      2876\n",
      "    macro avg       0.95      0.95      0.95      2876\n",
      " weighted avg       0.95      0.95      0.95      2876\n",
      "\n"
     ]
    }
   ],
   "source": [
    "from sklearn.metrics import classification_report\n",
    "\n",
    "# Make predictions on the test set\n",
    "y_pred = model.predict(X_val)\n",
    "y_pred_classes = np.argmax(y_pred, axis=1)\n",
    "\n",
    "# Print classification report\n",
    "print(classification_report(y_val, y_pred_classes, target_names=classes))"
   ]
  },
  {
   "cell_type": "markdown",
   "id": "3b7f1466",
   "metadata": {},
   "source": [
    "### ***Train set***"
   ]
  },
  {
   "cell_type": "code",
   "execution_count": 18,
   "id": "b65a7360",
   "metadata": {},
   "outputs": [
    {
     "name": "stdout",
     "output_type": "stream",
     "text": [
      "360/360 [==============================] - 14s 40ms/step\n",
      "               precision    recall  f1-score   support\n",
      "\n",
      "         Babi       1.00      1.00      1.00      1434\n",
      "     Pingpong       1.00      1.00      1.00      1463\n",
      "Chrysanthemum       0.98      0.97      0.97      1440\n",
      "         Rosy       1.00      1.00      1.00      1451\n",
      "         Tana       0.97      0.98      0.97      1436\n",
      "   Hydrangeas       0.99      1.00      1.00      1425\n",
      "   Lisianthus       1.00      0.99      0.99      1433\n",
      "    Calimerio       0.99      1.00      0.99      1418\n",
      "\n",
      "     accuracy                           0.99     11500\n",
      "    macro avg       0.99      0.99      0.99     11500\n",
      " weighted avg       0.99      0.99      0.99     11500\n",
      "\n"
     ]
    }
   ],
   "source": [
    "from sklearn.metrics import classification_report\n",
    "\n",
    "# Make predictions on the test set\n",
    "y_pred = model.predict(X_train)\n",
    "y_pred_classes = np.argmax(y_pred, axis=1)\n",
    "\n",
    "# Print classification report\n",
    "print(classification_report(y_train, y_pred_classes, target_names=classes))\n"
   ]
  },
  {
   "cell_type": "markdown",
   "id": "e0aa2407",
   "metadata": {},
   "source": [
    "## Data Augmentation"
   ]
  },
  {
   "cell_type": "code",
   "execution_count": 23,
   "id": "9437337e",
   "metadata": {},
   "outputs": [],
   "source": [
    "data_augmentation = keras.Sequential(\n",
    "  [\n",
    "    layers.RandomFlip(\"horizontal\",\n",
    "                      input_shape=(256,256,3)),\n",
    "    layers.RandomRotation(0.1),\n",
    "    layers.RandomZoom(0.1),\n",
    "  ]\n",
    ")"
   ]
  },
  {
   "cell_type": "code",
   "execution_count": null,
   "id": "7ffd360c",
   "metadata": {},
   "outputs": [
    {
     "name": "stdout",
     "output_type": "stream",
     "text": [
      "Epoch 1/1000\n",
      "360/360 [==============================] - 54s 150ms/step - loss: 1.8632 - accuracy: 0.2983 - val_loss: 2.1653 - val_accuracy: 0.2017\n",
      "Epoch 2/1000\n",
      "360/360 [==============================] - 49s 134ms/step - loss: 1.5023 - accuracy: 0.4413 - val_loss: 2.2088 - val_accuracy: 0.3261\n",
      "Epoch 3/1000\n",
      "360/360 [==============================] - 49s 135ms/step - loss: 1.3093 - accuracy: 0.5150 - val_loss: 1.4735 - val_accuracy: 0.4833\n",
      "Epoch 4/1000\n",
      "360/360 [==============================] - 48s 134ms/step - loss: 1.1849 - accuracy: 0.5677 - val_loss: 1.2773 - val_accuracy: 0.5515\n",
      "Epoch 5/1000\n",
      "360/360 [==============================] - 48s 133ms/step - loss: 1.0827 - accuracy: 0.6092 - val_loss: 1.4477 - val_accuracy: 0.5045\n",
      "Epoch 6/1000\n",
      "360/360 [==============================] - 49s 135ms/step - loss: 0.9963 - accuracy: 0.6464 - val_loss: 1.0471 - val_accuracy: 0.6182\n",
      "Epoch 7/1000\n",
      "360/360 [==============================] - 48s 133ms/step - loss: 0.9489 - accuracy: 0.6642 - val_loss: 0.9890 - val_accuracy: 0.6408\n",
      "Epoch 8/1000\n",
      "360/360 [==============================] - 48s 134ms/step - loss: 0.8816 - accuracy: 0.6865 - val_loss: 1.7222 - val_accuracy: 0.5257\n",
      "Epoch 9/1000\n",
      "360/360 [==============================] - 48s 134ms/step - loss: 0.8488 - accuracy: 0.7017 - val_loss: 1.1877 - val_accuracy: 0.5984\n",
      "Epoch 10/1000\n",
      "360/360 [==============================] - ETA: 0s - loss: 0.7994 - accuracy: 0.7140"
     ]
    }
   ],
   "source": [
    "import numpy as np\n",
    "from tensorflow import keras\n",
    "from tensorflow.keras import layers\n",
    "from tensorflow.keras.layers import BatchNormalization\n",
    "from tensorflow.keras.callbacks import EarlyStopping\n",
    "from tensorflow.keras.preprocessing.image import ImageDataGenerator\n",
    "\n",
    "# Reshape the input data to include the channel dimension\n",
    "X_train = np.expand_dims(X_train, axis=-1)\n",
    "X_val = np.expand_dims(X_val, axis=-1)\n",
    "\n",
    "# Define the input shape of the images\n",
    "input_shape = (256, 256, 1)\n",
    "\n",
    "# Define the number of classes\n",
    "num_classes = len(classes)\n",
    "\n",
    "# Define the CNN model\n",
    "model = keras.Sequential(\n",
    "    [\n",
    "        layers.Conv2D(32, kernel_size=(3, 3), activation=\"relu\", input_shape=input_shape),\n",
    "        BatchNormalization(),\n",
    "        layers.Activation(\"relu\"),\n",
    "        layers.MaxPooling2D(pool_size=(2, 2)),\n",
    "        layers.Conv2D(64, kernel_size=(3, 3), activation=\"relu\"),\n",
    "        BatchNormalization(),\n",
    "        layers.Activation(\"relu\"),\n",
    "        layers.MaxPooling2D(pool_size=(2, 2)),\n",
    "        layers.Flatten(),\n",
    "        layers.Dense(128),\n",
    "        BatchNormalization(),\n",
    "        layers.Activation(\"relu\"),\n",
    "        layers.Dense(num_classes, activation=\"softmax\"),\n",
    "    ]\n",
    ")\n",
    "\n",
    "# Compile the model\n",
    "model.compile(\n",
    "    optimizer=\"adam\",\n",
    "    loss=\"sparse_categorical_crossentropy\",\n",
    "    metrics=[\"accuracy\"]\n",
    ")\n",
    "\n",
    "# Define early stopping callback\n",
    "early_stopping = EarlyStopping(\n",
    "    monitor='val_loss',  # Stop training when validation loss doesn't improve\n",
    "    patience=10,  # Wait for 10 epochs before stopping\n",
    "    restore_best_weights=True  # Restore the weights from the best epoch\n",
    ")\n",
    "\n",
    "# Data augmentation\n",
    "datagen = ImageDataGenerator(\n",
    "    rotation_range=10,  # Randomly rotate images by 10 degrees\n",
    "    width_shift_range=0.1,  # Randomly shift images horizontally by 10% of the width\n",
    "    height_shift_range=0.1,  # Randomly shift images vertically by 10% of the height\n",
    "    zoom_range=0.1,  # Randomly zoom images by 10%\n",
    "    horizontal_flip=True  # Randomly flip images horizontally\n",
    ")\n",
    "\n",
    "# Train the model with data augmentation\n",
    "history = model.fit(\n",
    "    datagen.flow(X_train, y_train, batch_size=32),\n",
    "    epochs=1000,\n",
    "    validation_data=(X_val, y_val),\n",
    "    callbacks=[early_stopping]  # Use the early stopping callback\n",
    ")\n"
   ]
  },
  {
   "cell_type": "code",
   "execution_count": null,
   "id": "c97f1716",
   "metadata": {},
   "outputs": [],
   "source": []
  },
  {
   "cell_type": "code",
   "execution_count": null,
   "id": "d3e3d167",
   "metadata": {},
   "outputs": [],
   "source": []
  },
  {
   "cell_type": "code",
   "execution_count": null,
   "id": "a7a2ba24",
   "metadata": {},
   "outputs": [],
   "source": []
  },
  {
   "cell_type": "markdown",
   "id": "d9cd025c",
   "metadata": {},
   "source": [
    "## Recommend "
   ]
  },
  {
   "cell_type": "code",
   "execution_count": 20,
   "id": "c859fc8d",
   "metadata": {},
   "outputs": [
    {
     "name": "stdout",
     "output_type": "stream",
     "text": [
      "Recommended Image 1: Flowers/Babi/babi_751.jpg (Similarity Score: 0.928652794130944)\n",
      "Recommended Image 2: Flowers/Lisianthus/lisianthus_114.jpg (Similarity Score: 0.9277051166085342)\n",
      "Recommended Image 3: Flowers/Babi/babi_617.jpg (Similarity Score: 0.9273501098399035)\n",
      "Recommended Image 4: Flowers/Babi/babi_846.jpg (Similarity Score: 0.9269309863617841)\n",
      "Recommended Image 5: Flowers/Babi/babi_569.jpg (Similarity Score: 0.9266741864495196)\n",
      "Recommended Image 6: Flowers/Babi/babi_543.jpg (Similarity Score: 0.926228834829629)\n",
      "Recommended Image 7: Flowers/Hydrangeas/hydrangeas_51.jpg (Similarity Score: 0.9257206491151836)\n",
      "Recommended Image 8: Flowers/Pingpong/pingpong_96.jpg (Similarity Score: 0.9255890011134337)\n",
      "Recommended Image 9: Flowers/Hydrangeas/hydrangeas_133.jpg (Similarity Score: 0.9254576591209835)\n",
      "Recommended Image 10: Flowers/Hydrangeas/hydrangeas_46.jpg (Similarity Score: 0.925435194665233)\n"
     ]
    }
   ],
   "source": [
    "import os\n",
    "import numpy as np\n",
    "from PIL import Image\n",
    "from sklearn.metrics.pairwise import cosine_similarity\n",
    "\n",
    "def extract_features(image_path):\n",
    "    img = Image.open(image_path).convert(\"RGB\")\n",
    "    img = img.resize((224, 224))  # Resize the image to a common size for feature extraction\n",
    "    return np.array(img).ravel()\n",
    "\n",
    "def content_based_recommendation(query_image_path, train_data_path):\n",
    "    # Extract features from the query image\n",
    "    query_features = extract_features(query_image_path)\n",
    "    \n",
    "    # Initialize a dictionary to store cosine similarity scores\n",
    "    similarity_scores = {}\n",
    "    \n",
    "    # Iterate over the subfolders in the train data directory\n",
    "    for folder_name in os.listdir(train_data_path):\n",
    "        folder_path = os.path.join(train_data_path, folder_name)\n",
    "        if not os.path.isdir(folder_path):\n",
    "            continue\n",
    "        \n",
    "        # Iterate over the image files in each subfolder\n",
    "        for filename in os.listdir(folder_path):\n",
    "            image_path = os.path.join(folder_path, filename)\n",
    "            \n",
    "            # Extract features from the train image\n",
    "            train_features = extract_features(image_path)\n",
    "            \n",
    "            # Calculate the cosine similarity between query and train features\n",
    "            similarity = cosine_similarity([query_features], [train_features])[0][0]\n",
    "            \n",
    "            # Store the similarity score for the current train image\n",
    "            similarity_scores[image_path] = similarity\n",
    "    \n",
    "    # Sort the similarity scores in descending order\n",
    "    sorted_scores = sorted(similarity_scores.items(), key=lambda x: x[1], reverse=True)\n",
    "    \n",
    "    # Display the top 10 recommended images\n",
    "    for i in range(10):\n",
    "        image_path, similarity = sorted_scores[i]\n",
    "        print(f\"Recommended Image {i+1}: {image_path} (Similarity Score: {similarity})\")\n",
    "\n",
    "# Example usage\n",
    "query_image_path = \"MyImage/Babi/Babi.jpeg\"\n",
    "train_data_path = \"Flowers/\"\n",
    "\n",
    "content_based_recommendation(query_image_path, train_data_path)\n"
   ]
  }
 ],
 "metadata": {
  "kernelspec": {
   "display_name": "Python 3.10 (tensorflow)",
   "language": "python",
   "name": "tensorflow"
  },
  "language_info": {
   "codemirror_mode": {
    "name": "ipython",
    "version": 3
   },
   "file_extension": ".py",
   "mimetype": "text/x-python",
   "name": "python",
   "nbconvert_exporter": "python",
   "pygments_lexer": "ipython3",
   "version": "3.10.10"
  }
 },
 "nbformat": 4,
 "nbformat_minor": 5
}
